{
 "cells": [
  {
   "cell_type": "markdown",
   "id": "81ea7e2a",
   "metadata": {
    "cellId": "g0tjauvn1cdmrjhye0np7",
    "execution_id": "d2354129-8240-4c60-9eb3-3891b347007d",
    "id": "81ea7e2a"
   },
   "source": [
    "Firstly, we will generate answers to the questions using [OFA](https://github.com/OFA-Sys/OFA/tree/main) model"
   ]
  },
  {
   "cell_type": "code",
   "execution_count": null,
   "id": "ee687099",
   "metadata": {
    "cellId": "j62o64g21y9agekfjc6kc",
    "colab": {
     "base_uri": "https://localhost:8080/"
    },
    "id": "ee687099",
    "outputId": "f6e8d75d-a419-4242-a983-a86a9a510591"
   },
   "outputs": [],
   "source": [
    "!git clone https://github.com/OFA-Sys/OFA.git"
   ]
  },
  {
   "cell_type": "markdown",
   "id": "95e3db61",
   "metadata": {
    "cellId": "auuvmt7wl6jvoebc5vbfr",
    "execution_id": "86307e2b-9105-4bf6-abb7-cd9fbe68cb61",
    "id": "95e3db61"
   },
   "source": [
    "Download Checkpoint"
   ]
  },
  {
   "cell_type": "code",
   "execution_count": null,
   "id": "50fee101",
   "metadata": {
    "cellId": "5uudwg30cvldoyo3z8oppr",
    "colab": {
     "base_uri": "https://localhost:8080/"
    },
    "id": "50fee101",
    "outputId": "515c4ec1-b7c4-491c-a429-7754ec90db75"
   },
   "outputs": [],
   "source": [
    "!mkdir -p OFA/checkpoints/\n",
    "!wget https://ofa-silicon.oss-us-west-1.aliyuncs.com/checkpoints/ofa_large_384.pt\n",
    "!mv ofa_large_384.pt OFA/checkpoints/ofa_large_384.pt"
   ]
  },
  {
   "cell_type": "markdown",
   "id": "37f8a957",
   "metadata": {
    "cellId": "qnt2yx6bheekg256v7dsa",
    "execution_id": "004f254e-3dfe-4e52-aa1c-f5694b3460ad",
    "id": "37f8a957"
   },
   "source": [
    "Install Fairseq"
   ]
  },
  {
   "cell_type": "code",
   "execution_count": null,
   "id": "a32320fa",
   "metadata": {
    "cellId": "9td7g8qi5581x4doa81ntk",
    "colab": {
     "base_uri": "https://localhost:8080/"
    },
    "id": "a32320fa",
    "outputId": "3098b25a-7b9f-4634-f6c2-f1b9f03f5ac5"
   },
   "outputs": [],
   "source": [
    "!git clone https://github.com/pytorch/fairseq.git -b v0.12.0"
   ]
  },
  {
   "cell_type": "code",
   "execution_count": null,
   "id": "OAP5sgqdAIqI",
   "metadata": {
    "colab": {
     "base_uri": "https://localhost:8080/",
     "height": 36
    },
    "id": "OAP5sgqdAIqI",
    "outputId": "89a76e70-8204-4370-c746-56b3b46e2ed8"
   },
   "outputs": [],
   "source": [
    "cd fairseq"
   ]
  },
  {
   "cell_type": "code",
   "execution_count": null,
   "id": "R6ZxFhBiAL3m",
   "metadata": {
    "colab": {
     "base_uri": "https://localhost:8080/"
    },
    "id": "R6ZxFhBiAL3m",
    "outputId": "740567d7-1ea1-4fc2-e6d9-d0707e3bf94e"
   },
   "outputs": [],
   "source": [
    "!pip -q install --use-feature=no-binary-enable-wheel-cache ./"
   ]
  },
  {
   "cell_type": "code",
   "execution_count": null,
   "id": "e2870f5e-ee38-4c06-aa61-f9b673ce94f8",
   "metadata": {
    "colab": {
     "base_uri": "https://localhost:8080/"
    },
    "id": "e2870f5e-ee38-4c06-aa61-f9b673ce94f8",
    "outputId": "83df8ffc-9bcb-4731-c01a-167ca8473f6a"
   },
   "outputs": [],
   "source": [
    "cd ../OFA"
   ]
  },
  {
   "cell_type": "code",
   "execution_count": null,
   "id": "4c42017e",
   "metadata": {
    "cellId": "9qjia2jyggml54lgdkg09l",
    "colab": {
     "base_uri": "https://localhost:8080/"
    },
    "id": "4c42017e",
    "outputId": "427fdbcb-9780-4e5b-d356-ca77013f0ac8"
   },
   "outputs": [],
   "source": [
    "%%capture\n",
    "!sed '1d' requirements.txt | xargs -I {} pip install {}"
   ]
  },
  {
   "cell_type": "code",
   "execution_count": null,
   "id": "QzwBMuxWBYxH",
   "metadata": {
    "colab": {
     "base_uri": "https://localhost:8080/"
    },
    "id": "QzwBMuxWBYxH",
    "outputId": "dcfa85ac-0a69-458f-de04-0cafa819c152"
   },
   "outputs": [],
   "source": [
    "!pip -q install wget"
   ]
  },
  {
   "cell_type": "markdown",
   "id": "25436e37-12fd-4de3-b640-73915f8c3438",
   "metadata": {
    "id": "25436e37-12fd-4de3-b640-73915f8c3438"
   },
   "source": [
    "Import required packages, specify some generation options and check whether to use GPU or FP16. "
   ]
  },
  {
   "cell_type": "code",
   "execution_count": null,
   "id": "19542c87",
   "metadata": {
    "cellId": "nfz3yd8wfk9ces1cmzhitg",
    "colab": {
     "base_uri": "https://localhost:8080/"
    },
    "id": "19542c87",
    "outputId": "8ab269f4-b79d-4977-f534-2ab08bd8d6e2"
   },
   "outputs": [],
   "source": [
    "import torch\n",
    "import numpy as np\n",
    "import re\n",
    "from fairseq import checkpoint_utils\n",
    "from fairseq import distributed_utils, options, tasks, utils\n",
    "from fairseq.dataclass.utils import convert_namespace_to_omegaconf\n",
    "from utils.zero_shot_utils import zero_shot_step\n",
    "from tasks.mm_tasks.vqa_gen import VqaGenTask\n",
    "from PIL import Image\n",
    "import pandas as pd\n",
    "import os\n",
    "from tqdm.notebook import tqdm\n",
    "from joblib import Parallel, delayed\n",
    "import wget"
   ]
  },
  {
   "cell_type": "code",
   "execution_count": null,
   "outputs": [],
   "source": [
    "# Register VQA task\n",
    "tasks.register_task('vqa_gen',VqaGenTask)\n",
    "\n",
    "# turn on cuda if GPU is available\n",
    "use_cuda = torch.cuda.is_available()\n",
    "# use fp16 only when GPU is available\n",
    "use_fp16 = False\n",
    "\n",
    "# specify some options for evaluation\n",
    "parser = options.get_generation_parser()\n",
    "input_args = [\"\", \"--task=vqa_gen\", \"--beam=100\", \"--unnormalized\", \"--path=checkpoints/ofa_large_384.pt\", \"--bpe-dir=utils/BPE\"]\n",
    "args = options.parse_args_and_arch(parser, input_args)\n",
    "cfg = convert_namespace_to_omegaconf(args)"
   ],
   "metadata": {
    "collapsed": false,
    "pycharm": {
     "name": "#%%\n"
    }
   }
  },
  {
   "cell_type": "markdown",
   "id": "97fe5210",
   "metadata": {
    "cellId": "xdx6p5dpwxbrm9emmiewt",
    "execution_id": "925afde4-fbe9-453e-a315-a3637822163c",
    "id": "97fe5210"
   },
   "source": [
    "### **Build Model**\n",
    "Let's build a model, load the weights from the checkpoint, and also build a generator."
   ]
  },
  {
   "cell_type": "code",
   "execution_count": null,
   "id": "349c6ab7",
   "metadata": {
    "cellId": "v1sep24zhcmmer8yrkayc",
    "colab": {
     "base_uri": "https://localhost:8080/"
    },
    "id": "349c6ab7",
    "outputId": "290057a5-9b69-478a-d048-f11d4d2e1306"
   },
   "outputs": [],
   "source": [
    "# Load pretrained ckpt & config\n",
    "task = tasks.setup_task(cfg.task)\n",
    "models, cfg = checkpoint_utils.load_model_ensemble(\n",
    "    utils.split_paths(cfg.common_eval.path),\n",
    "    task=task\n",
    ")\n",
    "\n",
    "# Move models to GPU\n",
    "for model in models:\n",
    "    model.eval()\n",
    "    if use_fp16:\n",
    "        model.half()\n",
    "    if use_cuda and not cfg.distributed_training.pipeline_model_parallel:\n",
    "        model.cuda()\n",
    "    model.prepare_for_inference_(cfg)\n",
    "\n",
    "# Initialize generator\n",
    "generator = task.build_generator(models, cfg.generation)"
   ]
  },
  {
   "cell_type": "markdown",
   "id": "8b94a1bf",
   "metadata": {
    "cellId": "dc51nnz9uacm4x7r943hq",
    "execution_id": "e8666733-8e4e-4831-8865-d25f78e0465c",
    "id": "8b94a1bf"
   },
   "source": [
    "### **Preprocess**\n",
    "Define the required transformation fucntions for preprocessing inputs."
   ]
  },
  {
   "cell_type": "code",
   "execution_count": null,
   "id": "3f7da5f5",
   "metadata": {
    "cellId": "ccb369192u5q1lblfvk2gg",
    "id": "3f7da5f5"
   },
   "outputs": [],
   "source": [
    "# Image transform\n",
    "from torchvision import transforms\n",
    "mean = [0.5, 0.5, 0.5]\n",
    "std = [0.5, 0.5, 0.5]\n",
    "\n",
    "patch_resize_transform = transforms.Compose([\n",
    "    lambda image: image.convert(\"RGB\"),\n",
    "    transforms.Resize((cfg.task.patch_image_size, cfg.task.patch_image_size), interpolation=Image.BICUBIC),\n",
    "    transforms.ToTensor(),\n",
    "    transforms.Normalize(mean=mean, std=std),\n",
    "])\n",
    "\n",
    "# Text preprocess\n",
    "bos_item = torch.LongTensor([task.src_dict.bos()])\n",
    "eos_item = torch.LongTensor([task.src_dict.eos()])\n",
    "pad_idx = task.src_dict.pad()\n",
    "\n",
    "# Normalize the question\n",
    "def pre_question(question, max_ques_words):\n",
    "    question = question.lower().lstrip(\",.!?*#:;~\").replace('-', ' ').replace('/', ' ')\n",
    "    question = re.sub(\n",
    "        r\"\\s{2,}\",\n",
    "        ' ',\n",
    "        question,\n",
    "    )\n",
    "    question = question.rstrip('\\n')\n",
    "    question = question.strip(' ')\n",
    "    # truncate question\n",
    "    question_words = question.split(' ')\n",
    "    if len(question_words) > max_ques_words:\n",
    "        question = ' '.join(question_words[:max_ques_words])\n",
    "    return question\n",
    "\n",
    "def encode_text(text, length=None, append_bos=False, append_eos=False):\n",
    "    s = task.tgt_dict.encode_line(\n",
    "        line=task.bpe.encode(text),\n",
    "        add_if_not_exist=False,\n",
    "        append_eos=False\n",
    "    ).long()\n",
    "    if length is not None:\n",
    "        s = s[:length]\n",
    "    if append_bos:\n",
    "        s = torch.cat([bos_item, s])\n",
    "    if append_eos:\n",
    "        s = torch.cat([s, eos_item])\n",
    "    return s\n",
    "\n",
    "# Construct input for open-domain VQA task\n",
    "def construct_sample(image: Image, question: str):\n",
    "    patch_image = patch_resize_transform(image).unsqueeze(0)\n",
    "    patch_mask = torch.tensor([True])\n",
    "\n",
    "    question = pre_question(question, task.cfg.max_src_length)\n",
    "    question = question + '?' if not question.endswith('?') else question\n",
    "    src_text = encode_text(' {}'.format(question), append_bos=True, append_eos=True).unsqueeze(0)\n",
    "\n",
    "    src_length = torch.LongTensor([s.ne(pad_idx).long().sum() for s in src_text])\n",
    "    ref_dict = np.array([{'yes': 1.0}]) # just placeholder\n",
    "    sample = {\n",
    "        \"id\":np.array(['42']),\n",
    "        \"net_input\": {\n",
    "            \"src_tokens\": src_text,\n",
    "            \"src_lengths\": src_length,\n",
    "            \"patch_images\": patch_image,\n",
    "            \"patch_masks\": patch_mask,\n",
    "        },\n",
    "        \"ref_dict\": ref_dict,\n",
    "    }\n",
    "    return sample\n",
    "  \n",
    "# Function to turn FP32 to FP16\n",
    "def apply_half(t):\n",
    "    if t.dtype is torch.float32:\n",
    "        return t.to(dtype=torch.half)\n",
    "    return t"
   ]
  },
  {
   "cell_type": "markdown",
   "id": "23cfaa8d",
   "metadata": {
    "cellId": "y9vcen3dae4el5h8t8li1",
    "execution_id": "ed808299-704f-41a9-985a-6fc5c788ea18",
    "id": "23cfaa8d"
   },
   "source": [
    "### **Run Inference**\n",
    "Download images and run the following scripts to generate answers to the questions"
   ]
  },
  {
   "cell_type": "code",
   "execution_count": null,
   "id": "8536f1e7",
   "metadata": {
    "cellId": "z33nxmc0w6u03dotlhzl7",
    "id": "8536f1e7"
   },
   "outputs": [],
   "source": [
    "test_private = pd.read_csv(\n",
    "    'https://raw.githubusercontent.com/Toloka/WSDMCup2023/main/test_private.csv')"
   ]
  },
  {
   "cell_type": "code",
   "execution_count": null,
   "id": "d03e8a17-60c7-4f9d-b282-d61e3272c560",
   "metadata": {
    "colab": {
     "base_uri": "https://localhost:8080/",
     "height": 49,
     "referenced_widgets": [
      "b75cd2783fd048b293d6ab350046fd27",
      "5a957cf7d9ea4651a6d7a18ac990dd40",
      "155f563d924742b8bcb0f9b52c05f9e3",
      "a47cf99066814284bd1d2406684fc7da",
      "5eb03527a4214f39befc4fc5d5e5a6df",
      "02ca7c3284c3486a938e19978e4000f3",
      "cefb9f86107140cfbc1e3550cb8ba19a",
      "061873f1d2274bd98751c7320e5b5f4e",
      "d6f9ff81fb82416381306faa7b171faf",
      "d9f239685a9c4807a733913f390a37ce",
      "f5b5ab13ae2048e683616e072c63f1c4"
     ]
    },
    "id": "d03e8a17-60c7-4f9d-b282-d61e3272c560",
    "outputId": "f7a63e8b-f9f6-477e-d4bf-7c1cdc183f23"
   },
   "outputs": [],
   "source": [
    "os.mkdir('../imgs/')\n",
    "img_paths = Parallel(\n",
    "    n_jobs=100)(delayed(wget.download)(img_url, out='../imgs') for img_url in tqdm(test_private.image)\n",
    ")"
   ]
  },
  {
   "cell_type": "code",
   "execution_count": null,
   "id": "32ed85b4",
   "metadata": {
    "cellId": "1kodmllwd5hv11nz3ra5t",
    "colab": {
     "base_uri": "https://localhost:8080/",
     "height": 49,
     "referenced_widgets": [
      "9009cfb3f9e647a8b8238a13e6be9d8a",
      "edc003d3172f49cfa2b26f0d78e423f4",
      "6c3abb6d726948d5ba1348dfb57928f2",
      "747d6f9bcb4e49abaab3086a60b6b7f8",
      "690607009c394bdead2bcef7b3c9f7e6",
      "4afbe076a6ca4ee4b0d021683d500c5f",
      "7ec3995828254b77b137176ba44caa95",
      "73e9077d1e054fcfa92b545f8bf03d9d",
      "1420c80517ca408c9f4687f90cc479ed",
      "b6820594a2844175a96950ad4ee24123",
      "54c6ddf5125847faa87ea1a05a9713a8"
     ]
    },
    "id": "32ed85b4",
    "outputId": "3677e662-c460-4363-b895-62691a657708"
   },
   "outputs": [],
   "source": [
    "answers = []\n",
    "for i, row in tqdm(enumerate(test_private.iterrows()), total=len(test_private)):\n",
    "    row = row[1]\n",
    "    image_path = row['image'].split('/')[-1]\n",
    "    image = Image.open(os.path.join('../imgs', image_path))\n",
    "    question = row['question'] + ' Name an object in the picture'\n",
    "\n",
    "    # Construct input sample & preprocess for GPU if cuda available\n",
    "    sample = construct_sample(image, question)\n",
    "    sample = utils.move_to_cuda(sample) if use_cuda else sample\n",
    "    sample = utils.apply_to_sample(apply_half, sample) if use_fp16 else sample\n",
    "\n",
    "    # Run eval step for open-domain VQA\n",
    "    with torch.no_grad():\n",
    "        try:\n",
    "            result, scores = zero_shot_step(task, generator, models, sample)\n",
    "            answer = result[0]['answer']\n",
    "        except ValueError:\n",
    "            print('ValueError')\n",
    "            answer = 'ValueError'\n",
    "    answers.append(answer)"
   ]
  },
  {
   "cell_type": "code",
   "execution_count": null,
   "id": "d7a3b97f",
   "metadata": {
    "cellId": "tvbifaajeol80h872ulje8",
    "id": "5cc1874b"
   },
   "outputs": [],
   "source": [
    "test_private['answer'] = answers\n",
    "test_private = test_private[test_private['answer'] != 'ValueError']\n",
    "test_private.to_csv('../vqa_answers.csv', index=False)"
   ]
  },
  {
   "cell_type": "markdown",
   "id": "283b8108",
   "metadata": {},
   "source": [
    "That's it! Now download `vqa_answers.csv` and run `image_grounding_sam.ipynb` notebook to predict bounding boxes"
   ]
  }
 ],
 "metadata": {
  "accelerator": "GPU",
  "colab": {
   "provenance": []
  },
  "kernelspec": {
   "display_name": "Python 3",
   "language": "python",
   "name": "python3"
  },
  "language_info": {
   "codemirror_mode": {
    "name": "ipython",
    "version": 3
   },
   "file_extension": ".py",
   "mimetype": "text/x-python",
   "name": "python",
   "nbconvert_exporter": "python",
   "pygments_lexer": "ipython3",
   "version": "3.8.8"
  },
  "notebookId": "eba7bcbd-4c2a-470e-809e-a2287564d454",
  "notebookPath": "OFA/zero_shot_vqa.ipynb",
  "widgets": {
   "application/vnd.jupyter.widget-state+json": {
    "02ca7c3284c3486a938e19978e4000f3": {
     "model_module": "@jupyter-widgets/base",
     "model_module_version": "1.2.0",
     "model_name": "LayoutModel",
     "state": {
      "_model_module": "@jupyter-widgets/base",
      "_model_module_version": "1.2.0",
      "_model_name": "LayoutModel",
      "_view_count": null,
      "_view_module": "@jupyter-widgets/base",
      "_view_module_version": "1.2.0",
      "_view_name": "LayoutView",
      "align_content": null,
      "align_items": null,
      "align_self": null,
      "border": null,
      "bottom": null,
      "display": null,
      "flex": null,
      "flex_flow": null,
      "grid_area": null,
      "grid_auto_columns": null,
      "grid_auto_flow": null,
      "grid_auto_rows": null,
      "grid_column": null,
      "grid_gap": null,
      "grid_row": null,
      "grid_template_areas": null,
      "grid_template_columns": null,
      "grid_template_rows": null,
      "height": null,
      "justify_content": null,
      "justify_items": null,
      "left": null,
      "margin": null,
      "max_height": null,
      "max_width": null,
      "min_height": null,
      "min_width": null,
      "object_fit": null,
      "object_position": null,
      "order": null,
      "overflow": null,
      "overflow_x": null,
      "overflow_y": null,
      "padding": null,
      "right": null,
      "top": null,
      "visibility": null,
      "width": null
     }
    },
    "061873f1d2274bd98751c7320e5b5f4e": {
     "model_module": "@jupyter-widgets/base",
     "model_module_version": "1.2.0",
     "model_name": "LayoutModel",
     "state": {
      "_model_module": "@jupyter-widgets/base",
      "_model_module_version": "1.2.0",
      "_model_name": "LayoutModel",
      "_view_count": null,
      "_view_module": "@jupyter-widgets/base",
      "_view_module_version": "1.2.0",
      "_view_name": "LayoutView",
      "align_content": null,
      "align_items": null,
      "align_self": null,
      "border": null,
      "bottom": null,
      "display": null,
      "flex": null,
      "flex_flow": null,
      "grid_area": null,
      "grid_auto_columns": null,
      "grid_auto_flow": null,
      "grid_auto_rows": null,
      "grid_column": null,
      "grid_gap": null,
      "grid_row": null,
      "grid_template_areas": null,
      "grid_template_columns": null,
      "grid_template_rows": null,
      "height": null,
      "justify_content": null,
      "justify_items": null,
      "left": null,
      "margin": null,
      "max_height": null,
      "max_width": null,
      "min_height": null,
      "min_width": null,
      "object_fit": null,
      "object_position": null,
      "order": null,
      "overflow": null,
      "overflow_x": null,
      "overflow_y": null,
      "padding": null,
      "right": null,
      "top": null,
      "visibility": null,
      "width": null
     }
    },
    "1420c80517ca408c9f4687f90cc479ed": {
     "model_module": "@jupyter-widgets/controls",
     "model_module_version": "1.5.0",
     "model_name": "ProgressStyleModel",
     "state": {
      "_model_module": "@jupyter-widgets/controls",
      "_model_module_version": "1.5.0",
      "_model_name": "ProgressStyleModel",
      "_view_count": null,
      "_view_module": "@jupyter-widgets/base",
      "_view_module_version": "1.2.0",
      "_view_name": "StyleView",
      "bar_color": null,
      "description_width": ""
     }
    },
    "155f563d924742b8bcb0f9b52c05f9e3": {
     "model_module": "@jupyter-widgets/controls",
     "model_module_version": "1.5.0",
     "model_name": "FloatProgressModel",
     "state": {
      "_dom_classes": [],
      "_model_module": "@jupyter-widgets/controls",
      "_model_module_version": "1.5.0",
      "_model_name": "FloatProgressModel",
      "_view_count": null,
      "_view_module": "@jupyter-widgets/controls",
      "_view_module_version": "1.5.0",
      "_view_name": "ProgressView",
      "bar_style": "success",
      "description": "",
      "description_tooltip": null,
      "layout": "IPY_MODEL_061873f1d2274bd98751c7320e5b5f4e",
      "max": 600,
      "min": 0,
      "orientation": "horizontal",
      "style": "IPY_MODEL_d6f9ff81fb82416381306faa7b171faf",
      "value": 600
     }
    },
    "4afbe076a6ca4ee4b0d021683d500c5f": {
     "model_module": "@jupyter-widgets/base",
     "model_module_version": "1.2.0",
     "model_name": "LayoutModel",
     "state": {
      "_model_module": "@jupyter-widgets/base",
      "_model_module_version": "1.2.0",
      "_model_name": "LayoutModel",
      "_view_count": null,
      "_view_module": "@jupyter-widgets/base",
      "_view_module_version": "1.2.0",
      "_view_name": "LayoutView",
      "align_content": null,
      "align_items": null,
      "align_self": null,
      "border": null,
      "bottom": null,
      "display": null,
      "flex": null,
      "flex_flow": null,
      "grid_area": null,
      "grid_auto_columns": null,
      "grid_auto_flow": null,
      "grid_auto_rows": null,
      "grid_column": null,
      "grid_gap": null,
      "grid_row": null,
      "grid_template_areas": null,
      "grid_template_columns": null,
      "grid_template_rows": null,
      "height": null,
      "justify_content": null,
      "justify_items": null,
      "left": null,
      "margin": null,
      "max_height": null,
      "max_width": null,
      "min_height": null,
      "min_width": null,
      "object_fit": null,
      "object_position": null,
      "order": null,
      "overflow": null,
      "overflow_x": null,
      "overflow_y": null,
      "padding": null,
      "right": null,
      "top": null,
      "visibility": null,
      "width": null
     }
    },
    "54c6ddf5125847faa87ea1a05a9713a8": {
     "model_module": "@jupyter-widgets/controls",
     "model_module_version": "1.5.0",
     "model_name": "DescriptionStyleModel",
     "state": {
      "_model_module": "@jupyter-widgets/controls",
      "_model_module_version": "1.5.0",
      "_model_name": "DescriptionStyleModel",
      "_view_count": null,
      "_view_module": "@jupyter-widgets/base",
      "_view_module_version": "1.2.0",
      "_view_name": "StyleView",
      "description_width": ""
     }
    },
    "5a957cf7d9ea4651a6d7a18ac990dd40": {
     "model_module": "@jupyter-widgets/controls",
     "model_module_version": "1.5.0",
     "model_name": "HTMLModel",
     "state": {
      "_dom_classes": [],
      "_model_module": "@jupyter-widgets/controls",
      "_model_module_version": "1.5.0",
      "_model_name": "HTMLModel",
      "_view_count": null,
      "_view_module": "@jupyter-widgets/controls",
      "_view_module_version": "1.5.0",
      "_view_name": "HTMLView",
      "description": "",
      "description_tooltip": null,
      "layout": "IPY_MODEL_02ca7c3284c3486a938e19978e4000f3",
      "placeholder": "​",
      "style": "IPY_MODEL_cefb9f86107140cfbc1e3550cb8ba19a",
      "value": "100%"
     }
    },
    "5eb03527a4214f39befc4fc5d5e5a6df": {
     "model_module": "@jupyter-widgets/base",
     "model_module_version": "1.2.0",
     "model_name": "LayoutModel",
     "state": {
      "_model_module": "@jupyter-widgets/base",
      "_model_module_version": "1.2.0",
      "_model_name": "LayoutModel",
      "_view_count": null,
      "_view_module": "@jupyter-widgets/base",
      "_view_module_version": "1.2.0",
      "_view_name": "LayoutView",
      "align_content": null,
      "align_items": null,
      "align_self": null,
      "border": null,
      "bottom": null,
      "display": null,
      "flex": null,
      "flex_flow": null,
      "grid_area": null,
      "grid_auto_columns": null,
      "grid_auto_flow": null,
      "grid_auto_rows": null,
      "grid_column": null,
      "grid_gap": null,
      "grid_row": null,
      "grid_template_areas": null,
      "grid_template_columns": null,
      "grid_template_rows": null,
      "height": null,
      "justify_content": null,
      "justify_items": null,
      "left": null,
      "margin": null,
      "max_height": null,
      "max_width": null,
      "min_height": null,
      "min_width": null,
      "object_fit": null,
      "object_position": null,
      "order": null,
      "overflow": null,
      "overflow_x": null,
      "overflow_y": null,
      "padding": null,
      "right": null,
      "top": null,
      "visibility": null,
      "width": null
     }
    },
    "690607009c394bdead2bcef7b3c9f7e6": {
     "model_module": "@jupyter-widgets/base",
     "model_module_version": "1.2.0",
     "model_name": "LayoutModel",
     "state": {
      "_model_module": "@jupyter-widgets/base",
      "_model_module_version": "1.2.0",
      "_model_name": "LayoutModel",
      "_view_count": null,
      "_view_module": "@jupyter-widgets/base",
      "_view_module_version": "1.2.0",
      "_view_name": "LayoutView",
      "align_content": null,
      "align_items": null,
      "align_self": null,
      "border": null,
      "bottom": null,
      "display": null,
      "flex": null,
      "flex_flow": null,
      "grid_area": null,
      "grid_auto_columns": null,
      "grid_auto_flow": null,
      "grid_auto_rows": null,
      "grid_column": null,
      "grid_gap": null,
      "grid_row": null,
      "grid_template_areas": null,
      "grid_template_columns": null,
      "grid_template_rows": null,
      "height": null,
      "justify_content": null,
      "justify_items": null,
      "left": null,
      "margin": null,
      "max_height": null,
      "max_width": null,
      "min_height": null,
      "min_width": null,
      "object_fit": null,
      "object_position": null,
      "order": null,
      "overflow": null,
      "overflow_x": null,
      "overflow_y": null,
      "padding": null,
      "right": null,
      "top": null,
      "visibility": null,
      "width": null
     }
    },
    "6c3abb6d726948d5ba1348dfb57928f2": {
     "model_module": "@jupyter-widgets/controls",
     "model_module_version": "1.5.0",
     "model_name": "FloatProgressModel",
     "state": {
      "_dom_classes": [],
      "_model_module": "@jupyter-widgets/controls",
      "_model_module_version": "1.5.0",
      "_model_name": "FloatProgressModel",
      "_view_count": null,
      "_view_module": "@jupyter-widgets/controls",
      "_view_module_version": "1.5.0",
      "_view_name": "ProgressView",
      "bar_style": "success",
      "description": "",
      "description_tooltip": null,
      "layout": "IPY_MODEL_73e9077d1e054fcfa92b545f8bf03d9d",
      "max": 600,
      "min": 0,
      "orientation": "horizontal",
      "style": "IPY_MODEL_1420c80517ca408c9f4687f90cc479ed",
      "value": 600
     }
    },
    "73e9077d1e054fcfa92b545f8bf03d9d": {
     "model_module": "@jupyter-widgets/base",
     "model_module_version": "1.2.0",
     "model_name": "LayoutModel",
     "state": {
      "_model_module": "@jupyter-widgets/base",
      "_model_module_version": "1.2.0",
      "_model_name": "LayoutModel",
      "_view_count": null,
      "_view_module": "@jupyter-widgets/base",
      "_view_module_version": "1.2.0",
      "_view_name": "LayoutView",
      "align_content": null,
      "align_items": null,
      "align_self": null,
      "border": null,
      "bottom": null,
      "display": null,
      "flex": null,
      "flex_flow": null,
      "grid_area": null,
      "grid_auto_columns": null,
      "grid_auto_flow": null,
      "grid_auto_rows": null,
      "grid_column": null,
      "grid_gap": null,
      "grid_row": null,
      "grid_template_areas": null,
      "grid_template_columns": null,
      "grid_template_rows": null,
      "height": null,
      "justify_content": null,
      "justify_items": null,
      "left": null,
      "margin": null,
      "max_height": null,
      "max_width": null,
      "min_height": null,
      "min_width": null,
      "object_fit": null,
      "object_position": null,
      "order": null,
      "overflow": null,
      "overflow_x": null,
      "overflow_y": null,
      "padding": null,
      "right": null,
      "top": null,
      "visibility": null,
      "width": null
     }
    },
    "747d6f9bcb4e49abaab3086a60b6b7f8": {
     "model_module": "@jupyter-widgets/controls",
     "model_module_version": "1.5.0",
     "model_name": "HTMLModel",
     "state": {
      "_dom_classes": [],
      "_model_module": "@jupyter-widgets/controls",
      "_model_module_version": "1.5.0",
      "_model_name": "HTMLModel",
      "_view_count": null,
      "_view_module": "@jupyter-widgets/controls",
      "_view_module_version": "1.5.0",
      "_view_name": "HTMLView",
      "description": "",
      "description_tooltip": null,
      "layout": "IPY_MODEL_b6820594a2844175a96950ad4ee24123",
      "placeholder": "​",
      "style": "IPY_MODEL_54c6ddf5125847faa87ea1a05a9713a8",
      "value": " 600/600 [03:08&lt;00:00,  3.72it/s]"
     }
    },
    "7ec3995828254b77b137176ba44caa95": {
     "model_module": "@jupyter-widgets/controls",
     "model_module_version": "1.5.0",
     "model_name": "DescriptionStyleModel",
     "state": {
      "_model_module": "@jupyter-widgets/controls",
      "_model_module_version": "1.5.0",
      "_model_name": "DescriptionStyleModel",
      "_view_count": null,
      "_view_module": "@jupyter-widgets/base",
      "_view_module_version": "1.2.0",
      "_view_name": "StyleView",
      "description_width": ""
     }
    },
    "9009cfb3f9e647a8b8238a13e6be9d8a": {
     "model_module": "@jupyter-widgets/controls",
     "model_module_version": "1.5.0",
     "model_name": "HBoxModel",
     "state": {
      "_dom_classes": [],
      "_model_module": "@jupyter-widgets/controls",
      "_model_module_version": "1.5.0",
      "_model_name": "HBoxModel",
      "_view_count": null,
      "_view_module": "@jupyter-widgets/controls",
      "_view_module_version": "1.5.0",
      "_view_name": "HBoxView",
      "box_style": "",
      "children": [
       "IPY_MODEL_edc003d3172f49cfa2b26f0d78e423f4",
       "IPY_MODEL_6c3abb6d726948d5ba1348dfb57928f2",
       "IPY_MODEL_747d6f9bcb4e49abaab3086a60b6b7f8"
      ],
      "layout": "IPY_MODEL_690607009c394bdead2bcef7b3c9f7e6"
     }
    },
    "a47cf99066814284bd1d2406684fc7da": {
     "model_module": "@jupyter-widgets/controls",
     "model_module_version": "1.5.0",
     "model_name": "HTMLModel",
     "state": {
      "_dom_classes": [],
      "_model_module": "@jupyter-widgets/controls",
      "_model_module_version": "1.5.0",
      "_model_name": "HTMLModel",
      "_view_count": null,
      "_view_module": "@jupyter-widgets/controls",
      "_view_module_version": "1.5.0",
      "_view_name": "HTMLView",
      "description": "",
      "description_tooltip": null,
      "layout": "IPY_MODEL_d9f239685a9c4807a733913f390a37ce",
      "placeholder": "​",
      "style": "IPY_MODEL_f5b5ab13ae2048e683616e072c63f1c4",
      "value": " 600/600 [00:57&lt;00:00, 23.68it/s]"
     }
    },
    "b6820594a2844175a96950ad4ee24123": {
     "model_module": "@jupyter-widgets/base",
     "model_module_version": "1.2.0",
     "model_name": "LayoutModel",
     "state": {
      "_model_module": "@jupyter-widgets/base",
      "_model_module_version": "1.2.0",
      "_model_name": "LayoutModel",
      "_view_count": null,
      "_view_module": "@jupyter-widgets/base",
      "_view_module_version": "1.2.0",
      "_view_name": "LayoutView",
      "align_content": null,
      "align_items": null,
      "align_self": null,
      "border": null,
      "bottom": null,
      "display": null,
      "flex": null,
      "flex_flow": null,
      "grid_area": null,
      "grid_auto_columns": null,
      "grid_auto_flow": null,
      "grid_auto_rows": null,
      "grid_column": null,
      "grid_gap": null,
      "grid_row": null,
      "grid_template_areas": null,
      "grid_template_columns": null,
      "grid_template_rows": null,
      "height": null,
      "justify_content": null,
      "justify_items": null,
      "left": null,
      "margin": null,
      "max_height": null,
      "max_width": null,
      "min_height": null,
      "min_width": null,
      "object_fit": null,
      "object_position": null,
      "order": null,
      "overflow": null,
      "overflow_x": null,
      "overflow_y": null,
      "padding": null,
      "right": null,
      "top": null,
      "visibility": null,
      "width": null
     }
    },
    "b75cd2783fd048b293d6ab350046fd27": {
     "model_module": "@jupyter-widgets/controls",
     "model_module_version": "1.5.0",
     "model_name": "HBoxModel",
     "state": {
      "_dom_classes": [],
      "_model_module": "@jupyter-widgets/controls",
      "_model_module_version": "1.5.0",
      "_model_name": "HBoxModel",
      "_view_count": null,
      "_view_module": "@jupyter-widgets/controls",
      "_view_module_version": "1.5.0",
      "_view_name": "HBoxView",
      "box_style": "",
      "children": [
       "IPY_MODEL_5a957cf7d9ea4651a6d7a18ac990dd40",
       "IPY_MODEL_155f563d924742b8bcb0f9b52c05f9e3",
       "IPY_MODEL_a47cf99066814284bd1d2406684fc7da"
      ],
      "layout": "IPY_MODEL_5eb03527a4214f39befc4fc5d5e5a6df"
     }
    },
    "cefb9f86107140cfbc1e3550cb8ba19a": {
     "model_module": "@jupyter-widgets/controls",
     "model_module_version": "1.5.0",
     "model_name": "DescriptionStyleModel",
     "state": {
      "_model_module": "@jupyter-widgets/controls",
      "_model_module_version": "1.5.0",
      "_model_name": "DescriptionStyleModel",
      "_view_count": null,
      "_view_module": "@jupyter-widgets/base",
      "_view_module_version": "1.2.0",
      "_view_name": "StyleView",
      "description_width": ""
     }
    },
    "d6f9ff81fb82416381306faa7b171faf": {
     "model_module": "@jupyter-widgets/controls",
     "model_module_version": "1.5.0",
     "model_name": "ProgressStyleModel",
     "state": {
      "_model_module": "@jupyter-widgets/controls",
      "_model_module_version": "1.5.0",
      "_model_name": "ProgressStyleModel",
      "_view_count": null,
      "_view_module": "@jupyter-widgets/base",
      "_view_module_version": "1.2.0",
      "_view_name": "StyleView",
      "bar_color": null,
      "description_width": ""
     }
    },
    "d9f239685a9c4807a733913f390a37ce": {
     "model_module": "@jupyter-widgets/base",
     "model_module_version": "1.2.0",
     "model_name": "LayoutModel",
     "state": {
      "_model_module": "@jupyter-widgets/base",
      "_model_module_version": "1.2.0",
      "_model_name": "LayoutModel",
      "_view_count": null,
      "_view_module": "@jupyter-widgets/base",
      "_view_module_version": "1.2.0",
      "_view_name": "LayoutView",
      "align_content": null,
      "align_items": null,
      "align_self": null,
      "border": null,
      "bottom": null,
      "display": null,
      "flex": null,
      "flex_flow": null,
      "grid_area": null,
      "grid_auto_columns": null,
      "grid_auto_flow": null,
      "grid_auto_rows": null,
      "grid_column": null,
      "grid_gap": null,
      "grid_row": null,
      "grid_template_areas": null,
      "grid_template_columns": null,
      "grid_template_rows": null,
      "height": null,
      "justify_content": null,
      "justify_items": null,
      "left": null,
      "margin": null,
      "max_height": null,
      "max_width": null,
      "min_height": null,
      "min_width": null,
      "object_fit": null,
      "object_position": null,
      "order": null,
      "overflow": null,
      "overflow_x": null,
      "overflow_y": null,
      "padding": null,
      "right": null,
      "top": null,
      "visibility": null,
      "width": null
     }
    },
    "edc003d3172f49cfa2b26f0d78e423f4": {
     "model_module": "@jupyter-widgets/controls",
     "model_module_version": "1.5.0",
     "model_name": "HTMLModel",
     "state": {
      "_dom_classes": [],
      "_model_module": "@jupyter-widgets/controls",
      "_model_module_version": "1.5.0",
      "_model_name": "HTMLModel",
      "_view_count": null,
      "_view_module": "@jupyter-widgets/controls",
      "_view_module_version": "1.5.0",
      "_view_name": "HTMLView",
      "description": "",
      "description_tooltip": null,
      "layout": "IPY_MODEL_4afbe076a6ca4ee4b0d021683d500c5f",
      "placeholder": "​",
      "style": "IPY_MODEL_7ec3995828254b77b137176ba44caa95",
      "value": "100%"
     }
    },
    "f5b5ab13ae2048e683616e072c63f1c4": {
     "model_module": "@jupyter-widgets/controls",
     "model_module_version": "1.5.0",
     "model_name": "DescriptionStyleModel",
     "state": {
      "_model_module": "@jupyter-widgets/controls",
      "_model_module_version": "1.5.0",
      "_model_name": "DescriptionStyleModel",
      "_view_count": null,
      "_view_module": "@jupyter-widgets/base",
      "_view_module_version": "1.2.0",
      "_view_name": "StyleView",
      "description_width": ""
     }
    }
   }
  }
 },
 "nbformat": 4,
 "nbformat_minor": 5
}